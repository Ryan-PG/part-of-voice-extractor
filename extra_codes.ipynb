{
 "cells": [
  {
   "cell_type": "markdown",
   "id": "f5fdf99b",
   "metadata": {},
   "source": [
    "## Some Extra Needed Codes\n",
    "Just for organizing files..."
   ]
  },
  {
   "cell_type": "markdown",
   "id": "8b2d7f5f",
   "metadata": {},
   "source": [
    "### Imports and Variables"
   ]
  },
  {
   "cell_type": "code",
   "execution_count": 1,
   "id": "206c7578",
   "metadata": {},
   "outputs": [],
   "source": [
    "import os\n",
    "import re\n",
    "\n",
    "# directory = 'Extra_Codes_Directory'\n",
    "directory = 'Voices'\n",
    "os.makedirs(directory, exist_ok=True)"
   ]
  },
  {
   "cell_type": "markdown",
   "id": "68022b6e",
   "metadata": {},
   "source": [
    "### File Renaming"
   ]
  },
  {
   "cell_type": "code",
   "execution_count": null,
   "id": "00c9756b",
   "metadata": {},
   "outputs": [],
   "source": [
    "def rename_files(start_number, directory):\n",
    "    current = start_number\n",
    "\n",
    "    while True:\n",
    "        old_filename = os.path.join(directory, f\"{current}.m4a\")\n",
    "        new_filename = os.path.join(directory, f\"{current - 1}.m4a\")\n",
    "\n",
    "        if os.path.exists(old_filename):\n",
    "            print(f\"Renaming {old_filename} → {new_filename}\")\n",
    "            os.rename(old_filename, new_filename)\n",
    "            current += 1\n",
    "        else:\n",
    "            print(f\"No file found: {old_filename}. Stopping.\")\n",
    "            break\n",
    "\n",
    "# Example usage:\n",
    "rename_files(8, \"Voices\")"
   ]
  },
  {
   "cell_type": "markdown",
   "id": "a2f0da53",
   "metadata": {},
   "source": [
    "### Missed Numbers in Voice Files"
   ]
  },
  {
   "cell_type": "code",
   "execution_count": null,
   "id": "a5e7ffb3",
   "metadata": {},
   "outputs": [
    {
     "name": "stdout",
     "output_type": "stream",
     "text": [
      "No missing numbers. Sequence is complete!\n"
     ]
    }
   ],
   "source": [
    "# pattern = re.compile(r'^(\\d+)\\.m4a$') # 1.m4a, 2.m4a, etc.\n",
    "pattern = re.compile(r'^Voice (\\d+)\\.m4a$') # Voice 1.m4a, Voice 2.m4a, etc.\n",
    "\n",
    "numbers = []\n",
    "\n",
    "for filename in os.listdir(directory):\n",
    "    match = pattern.match(filename)\n",
    "    if match:\n",
    "        numbers.append(int(match.group(1)))\n",
    "\n",
    "if not numbers:\n",
    "    print(\"No .m4a files with numeric names found.\")\n",
    "else:\n",
    "    numbers = sorted(numbers)\n",
    "    missing = []\n",
    "\n",
    "    for num in range(numbers[0], numbers[-1] + 1):\n",
    "        if num not in numbers:\n",
    "            missing.append(num)\n",
    "\n",
    "    if missing:\n",
    "        print(\"Missing numbers:\", missing)\n",
    "    else:\n",
    "        print(\"No missing numbers. Sequence is complete!\")\n"
   ]
  },
  {
   "cell_type": "markdown",
   "id": "6c42dc4d",
   "metadata": {},
   "source": [
    "### Shift Numbers in File Names"
   ]
  },
  {
   "cell_type": "code",
   "execution_count": null,
   "id": "8dbe30dd",
   "metadata": {},
   "outputs": [],
   "source": [
    "pattern = re.compile(r'(Voice )(\\d{3})(\\.m4a)')\n",
    "\n",
    "for filename in os.listdir(directory):\n",
    "    match = pattern.match(filename)\n",
    "    if match:\n",
    "        prefix, number_str, suffix = match.groups()\n",
    "        new_number = int(number_str) + 410\n",
    "        new_filename = f\"{prefix}{new_number:03d}{suffix}\"\n",
    "        old_path = os.path.join(directory, filename)\n",
    "        new_path = os.path.join(directory, new_filename)\n",
    "        os.rename(old_path, new_path)\n",
    "        print(f\"Renamed: {filename} → {new_filename}\")\n",
    "\n",
    "print(\"✅ Done renaming all matching files!\")\n"
   ]
  }
 ],
 "metadata": {
  "kernelspec": {
   "display_name": ".venv",
   "language": "python",
   "name": "python3"
  },
  "language_info": {
   "codemirror_mode": {
    "name": "ipython",
    "version": 3
   },
   "file_extension": ".py",
   "mimetype": "text/x-python",
   "name": "python",
   "nbconvert_exporter": "python",
   "pygments_lexer": "ipython3",
   "version": "3.10.15"
  }
 },
 "nbformat": 4,
 "nbformat_minor": 5
}
