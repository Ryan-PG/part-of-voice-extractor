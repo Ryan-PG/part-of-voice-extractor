{
 "cells": [
  {
   "cell_type": "markdown",
   "id": "f5fdf99b",
   "metadata": {},
   "source": [
    "## Some Extra Needed Codes\n",
    "Just for organizing files..."
   ]
  },
  {
   "cell_type": "markdown",
   "id": "8b2d7f5f",
   "metadata": {},
   "source": [
    "### Imports and Variables"
   ]
  },
  {
   "cell_type": "code",
   "execution_count": 1,
   "id": "206c7578",
   "metadata": {},
   "outputs": [],
   "source": [
    "import os\n",
    "import re\n",
    "\n",
    "# directory = 'Extra_Codes_Directory'\n",
    "directory = 'Voices'\n",
    "os.makedirs(directory, exist_ok=True)"
   ]
  },
  {
   "cell_type": "markdown",
   "id": "68022b6e",
   "metadata": {},
   "source": [
    "### File Renaming"
   ]
  },
  {
   "cell_type": "code",
   "execution_count": null,
   "id": "00c9756b",
   "metadata": {},
   "outputs": [],
   "source": [
    "def rename_files(start_number, directory):\n",
    "    current = start_number\n",
    "\n",
    "    while True:\n",
    "        old_filename = os.path.join(directory, f\"{current}.m4a\")\n",
    "        new_filename = os.path.join(directory, f\"{current - 1}.m4a\")\n",
    "\n",
    "        if os.path.exists(old_filename):\n",
    "            print(f\"Renaming {old_filename} → {new_filename}\")\n",
    "            os.rename(old_filename, new_filename)\n",
    "            current += 1\n",
    "        else:\n",
    "            print(f\"No file found: {old_filename}. Stopping.\")\n",
    "            break\n",
    "\n",
    "# Example usage:\n",
    "rename_files(8, \"Voices\")"
   ]
  },
  {
   "cell_type": "markdown",
   "id": "a2f0da53",
   "metadata": {},
   "source": [
    "### Missed Numbers in Voice Files"
   ]
  },
  {
   "cell_type": "code",
   "execution_count": 5,
   "id": "a5e7ffb3",
   "metadata": {},
   "outputs": [
    {
     "name": "stdout",
     "output_type": "stream",
     "text": [
      "Missing numbers: [106, 118, 126]\n"
     ]
    }
   ],
   "source": [
    "import re\n",
    "import os\n",
    "\n",
    "file_type = \"mp3\"\n",
    "\n",
    "pattern = re.compile(r\"^(\\d{3})-A\\.mp3$\") # 001-A.{file_type}, 002-A.{file_type}, etc.\n",
    "# pattern = re.compile(rf'^(\\d+)\\.{file_type}$') # 1.{file_type}, 2.{file_type}, etc.\n",
    "# pattern = re.compile(rf'^Voice (\\d+)\\.{file_type}$') # Voice 1.{file_type}, Voice 2.{file_type}, etc.\n",
    "\n",
    "\n",
    "\n",
    "directory = 'Voices'\n",
    "os.makedirs(directory, exist_ok=True)\n",
    "\n",
    "numbers = []\n",
    "\n",
    "for filename in os.listdir(directory):\n",
    "    match = pattern.match(filename)\n",
    "    if match:\n",
    "        numbers.append(int(match.group(1)))\n",
    "\n",
    "if not numbers:\n",
    "    print(f\"No .{file_type} files with numeric names found.\")\n",
    "else:\n",
    "    numbers = sorted(numbers)\n",
    "    missing = []\n",
    "\n",
    "    for num in range(numbers[0], numbers[-1] + 1):\n",
    "        if num not in numbers:\n",
    "            missing.append(num)\n",
    "\n",
    "    if missing:\n",
    "        print(\"Missing numbers:\", missing)\n",
    "    else:\n",
    "        print(\"No missing numbers. Sequence is complete!\")"
   ]
  },
  {
   "cell_type": "markdown",
   "id": "6c42dc4d",
   "metadata": {},
   "source": [
    "### Shift Numbers in File Names"
   ]
  },
  {
   "cell_type": "code",
   "execution_count": null,
   "id": "8dbe30dd",
   "metadata": {},
   "outputs": [],
   "source": [
    "pattern = re.compile(r'(Voice )(\\d{3})(\\.m4a)')\n",
    "\n",
    "for filename in os.listdir(directory):\n",
    "    match = pattern.match(filename)\n",
    "    if match:\n",
    "        prefix, number_str, suffix = match.groups()\n",
    "        new_number = int(number_str) + 410\n",
    "        new_filename = f\"{prefix}{new_number:03d}{suffix}\"\n",
    "        old_path = os.path.join(directory, filename)\n",
    "        new_path = os.path.join(directory, new_filename)\n",
    "        os.rename(old_path, new_path)\n",
    "        print(f\"Renamed: {filename} → {new_filename}\")\n",
    "\n",
    "print(\"✅ Done renaming all matching files!\")\n"
   ]
  },
  {
   "cell_type": "markdown",
   "id": "9c3475dd",
   "metadata": {},
   "source": [
    "### Remove All Empty Lines"
   ]
  },
  {
   "cell_type": "code",
   "execution_count": null,
   "id": "304f7b27",
   "metadata": {},
   "outputs": [],
   "source": [
    "def remove_empty_lines(input_file, output_file, encoding='utf-8'):\n",
    "    try:\n",
    "        with open(input_file, 'r', encoding=encoding) as infile:\n",
    "            lines = infile.readlines()\n",
    "        \n",
    "        non_empty_lines = [line for line in lines if line.strip() != '']\n",
    "        \n",
    "        with open(output_file, 'w', encoding=encoding) as outfile:\n",
    "            outfile.writelines(non_empty_lines)\n",
    "        \n",
    "        print(f\"Empty lines removed and saved to {output_file}\")\n",
    "    \n",
    "    except UnicodeDecodeError:\n",
    "        print(f\"Error: Unable to read the file with the {encoding} encoding. Please check the file encoding.\")\n",
    "\n",
    "input_file = 'Labels/Kurdi.txt'  \n",
    "output_file = 'Labels/Kurdi_cleared.txt' \n",
    "\n",
    "remove_empty_lines(input_file, output_file)\n",
    "\n",
    "print(f\"Empty lines removed and saved to {output_file}\")"
   ]
  },
  {
   "cell_type": "markdown",
   "id": "47b699ba",
   "metadata": {},
   "source": [
    "### Convert all `m4a` audio tracks to `mp3`"
   ]
  },
  {
   "cell_type": "code",
   "execution_count": null,
   "id": "8846395e",
   "metadata": {},
   "outputs": [],
   "source": [
    "%pip install pydub"
   ]
  },
  {
   "cell_type": "code",
   "execution_count": null,
   "id": "3d3f4373",
   "metadata": {},
   "outputs": [],
   "source": [
    "import os\n",
    "from pydub import AudioSegment\n",
    "\n",
    "\n",
    "directory = './Voices'\n",
    "\n",
    "for filename in os.listdir(directory):\n",
    "    if filename.lower().endswith('.m4a'):\n",
    "        m4a_path = os.path.join(directory, filename)\n",
    "        mp3_filename = os.path.splitext(filename)[0] + '.mp3'\n",
    "        mp3_path = os.path.join(directory, mp3_filename)\n",
    "\n",
    "        audio = AudioSegment.from_file(m4a_path, format='m4a')\n",
    "        \n",
    "        audio.export(mp3_path, format='mp3')\n",
    "        print(f'Converted: {filename} → {mp3_filename}')\n",
    "\n",
    "        os.remove(m4a_path)\n",
    "        print(f'Deleted original: {filename}')\n",
    "\n",
    "print('✅ All m4a files converted and cleaned up!')\n"
   ]
  },
  {
   "cell_type": "markdown",
   "id": "0e5391be",
   "metadata": {},
   "source": [
    "### Convert all `wav` audio tracks to `mp3`"
   ]
  },
  {
   "cell_type": "code",
   "execution_count": null,
   "id": "263ab169",
   "metadata": {},
   "outputs": [],
   "source": [
    "import os\n",
    "from pydub import AudioSegment\n",
    "\n",
    "directory = './Voices'\n",
    "\n",
    "for filename in os.listdir(directory):\n",
    "    if filename.lower().endswith('.wav'):\n",
    "        wav_path = os.path.join(directory, filename)\n",
    "        mp3_filename = os.path.splitext(filename)[0] + '.mp3'\n",
    "        mp3_path = os.path.join(directory, mp3_filename)\n",
    "\n",
    "        audio = AudioSegment.from_wav(wav_path)\n",
    "        audio.export(mp3_path, format='mp3')\n",
    "        print(f'Converted: {filename} → {mp3_filename}')\n",
    "\n",
    "        os.remove(wav_path)\n",
    "        print(f'Deleted original: {filename}')\n",
    "\n",
    "print('✅ All wav files converted and cleaned up!')\n"
   ]
  },
  {
   "cell_type": "markdown",
   "id": "bda8b6d5",
   "metadata": {},
   "source": [
    "### Convert all `ogg` audio tracks to `m4a`"
   ]
  },
  {
   "cell_type": "code",
   "execution_count": null,
   "id": "9ffa6f27",
   "metadata": {},
   "outputs": [],
   "source": [
    "import os\n",
    "import subprocess\n",
    "\n",
    "directory = 'Voices'\n",
    "\n",
    "for filename in os.listdir(directory):\n",
    "    if filename.endswith('.ogg'):\n",
    "        ogg_path = os.path.join(directory, filename)\n",
    "        m4a_path = os.path.join(directory, filename.replace('.ogg', '.m4a'))\n",
    "        \n",
    "        result = subprocess.run([\n",
    "            'ffmpeg', '-i', ogg_path, '-c:a', 'aac', '-b:a', '192k', m4a_path\n",
    "        ], stdout=subprocess.PIPE, stderr=subprocess.PIPE)\n",
    "        \n",
    "        if result.returncode == 0:\n",
    "            print(f\"✅ Converted: {filename} → {os.path.basename(m4a_path)}\")\n",
    "            os.remove(ogg_path)\n",
    "            print(f\"🗑️ Deleted original: {filename}\")\n",
    "        else:\n",
    "            print(f\"❌ Failed to convert: {filename}\")\n",
    "            print(result.stderr.decode())\n",
    "\n",
    "print(\"✅ All ogg files converted to mp3 and cleaned up!\")"
   ]
  },
  {
   "cell_type": "markdown",
   "id": "b14f3608",
   "metadata": {},
   "source": [
    "### Convert all `ogg` audio tracks to `mp3`"
   ]
  },
  {
   "cell_type": "code",
   "execution_count": null,
   "id": "15f7f89b",
   "metadata": {},
   "outputs": [],
   "source": [
    "import os\n",
    "import subprocess\n",
    "\n",
    "directory = 'Voices'\n",
    "\n",
    "for filename in os.listdir(directory):\n",
    "    if filename.endswith('.ogg'):\n",
    "        ogg_path = os.path.join(directory, filename)\n",
    "        mp3_path = os.path.join(directory, filename.replace('.ogg', '.mp3'))\n",
    "        \n",
    "        result = subprocess.run([\n",
    "            'ffmpeg', '-i', ogg_path, '-codec:a', 'libmp3lame', '-qscale:a', '2', mp3_path\n",
    "        ], stdout=subprocess.PIPE, stderr=subprocess.PIPE)\n",
    "        \n",
    "        if result.returncode == 0:\n",
    "            print(f\"✅ Converted: {filename} → {os.path.basename(mp3_path)}\")\n",
    "            os.remove(ogg_path)\n",
    "            print(f\"🗑️ Deleted original: {filename}\")\n",
    "        else:\n",
    "            print(f\"❌ Failed to convert: {filename}\")\n",
    "            print(result.stderr.decode())\n",
    "\n",
    "print(\"✅ All ogg files converted to mp3 and cleaned up!\")\n"
   ]
  },
  {
   "cell_type": "markdown",
   "id": "d8fff7fe",
   "metadata": {},
   "source": [
    "### Convert all `mp4` audio tracks to `mp3`"
   ]
  },
  {
   "cell_type": "code",
   "execution_count": null,
   "id": "3f7fd062",
   "metadata": {},
   "outputs": [],
   "source": [
    "import os\n",
    "import subprocess\n",
    "\n",
    "directory = 'Voices'\n",
    "\n",
    "for filename in os.listdir(directory):\n",
    "    if filename.endswith('.mp4'):\n",
    "        mp4_path = os.path.join(directory, filename)\n",
    "        mp3_path = os.path.join(directory, filename.replace('.mp4', '.mp3'))\n",
    "\n",
    "        result = subprocess.run([\n",
    "            'ffmpeg', '-i', mp4_path, '-vn', '-codec:a', 'libmp3lame', '-qscale:a', '2', mp3_path\n",
    "        ], stdout=subprocess.PIPE, stderr=subprocess.PIPE)\n",
    "\n",
    "        if result.returncode == 0:\n",
    "            print(f\"✅ Converted: {filename} → {os.path.basename(mp3_path)}\")\n",
    "        else:\n",
    "            print(f\"❌ Failed to convert: {filename}\")\n",
    "            print(result.stderr.decode())\n",
    "\n",
    "print(\"🎧 All mp4 files converted to mp3!\")"
   ]
  },
  {
   "cell_type": "markdown",
   "id": "35e1f631",
   "metadata": {},
   "source": [
    "### Gather all extracted labels to one file"
   ]
  },
  {
   "cell_type": "code",
   "execution_count": 2,
   "id": "31f9e25d",
   "metadata": {},
   "outputs": [
    {
     "name": "stdout",
     "output_type": "stream",
     "text": [
      "✅ Extracted 589 labels longer than 3s into './Extracted_Voices/all_labels.txt'\n",
      "Total Time: 4073.837131999995\n"
     ]
    }
   ],
   "source": [
    "import os\n",
    "\n",
    "directory_path = './Extracted_Voices'\n",
    "output_file = f'{directory_path}/all_labels.txt'\n",
    "\n",
    "all_labels = []\n",
    "\n",
    "total_time = 0\n",
    "\n",
    "for filename in os.listdir(directory_path):\n",
    "    if filename.endswith('.txt'):\n",
    "        file_path = os.path.join(directory_path, filename)\n",
    "        with open(file_path, 'r', encoding='utf-8') as file:\n",
    "            for line in file:\n",
    "                parts = line.strip().split('\\t')\n",
    "                if len(parts) >= 3:\n",
    "                    try:\n",
    "                        start_time = float(parts[0])\n",
    "                        end_time = float(parts[1])\n",
    "                        duration = end_time - start_time\n",
    "                        if duration > 3.0:  # Duration is in seconds\n",
    "                            total_time += duration\n",
    "                            label = parts[2]\n",
    "                            all_labels.append(label)\n",
    "                    except ValueError:\n",
    "                        continue  # Skip malformed lines\n",
    "\n",
    "with open(output_file, 'w', encoding='utf-8') as out:\n",
    "    for label in all_labels:\n",
    "        out.write(label + '\\n')\n",
    "\n",
    "print(f\"✅ Extracted {len(all_labels)} labels longer than 3s into '{output_file}'\")\n",
    "print(f\"Total Time: {total_time}\")\n"
   ]
  },
  {
   "cell_type": "markdown",
   "id": "997c1b61",
   "metadata": {},
   "source": [
    "### Text formating"
   ]
  },
  {
   "cell_type": "markdown",
   "id": "16fff0c3",
   "metadata": {},
   "source": [
    "\n",
    "Converting text like this:\n",
    "```txt\n",
    "\"01.wav\" \"Text of the 01.wav\"\n",
    "\"02.wav\" \"Text of the 02.wav\"\n",
    "...\n",
    "```\n",
    "\n",
    "to this:\n",
    "```txt\n",
    "Text of the 01.wav\n",
    "Text of the 02.wav\n",
    "```"
   ]
  },
  {
   "cell_type": "code",
   "execution_count": 1,
   "id": "8791a8cd",
   "metadata": {},
   "outputs": [
    {
     "name": "stdout",
     "output_type": "stream",
     "text": [
      "رييس سازمان سنجش آموزش كشور همزمان با نزديك شدن به زمان ثبت‌نام كنكور و آغاز تبليغات موسسات كنكور، به داوطلبان و خانواده‌ها نسبت به سؤء استفاده برخي از اين موسسات با دادن وعده‌هاي دروغين همچون تضمين قبولي، فروش سوالات و ادعاي همكاري با سازمان هشدار داد.\n",
      "به گزارش سرويس صنفي آموزشي خبرگزاري دانشجويان ايران (ايسنا)، نشست « نقش دانشگاهها و مراکز پژوهشي در آموزش و تحقيقات فناوري اطلاعات» با حضور وزراي «علوم، تحقيقات و فناوري» و «ارتباطات و فنآوري اطلاعات» روز شنبه 23 دي ماه در مجتمع تحقيقاتي عصر انقلاب برگزار مي‌شود.\n",
      "وي با بيان اين‌كه برعكس آنچه شايع شده، دانشگاه برنامه‌ گسترده‌اي براي ايجاد كرسي‌هاي نظريه‌پردازي در دانشكده‌هاي مختلف با محوريت قطب‌هاي علمي و با حضئر اساتيد تمام دانشگاه در دست اجرا دارد، اظهار داشت: اميدواريم بتوانيم تا پايان سال جاري در برخي رشته‌ها نسبت به تاسيس اين كرسي‌ها اقدام كنيم. \n"
     ]
    }
   ],
   "source": [
    "def extract_text_from_file(input_file, output_file=None):\n",
    "    clean_lines = []\n",
    "\n",
    "    with open(input_file, 'r', encoding='utf-8') as f:\n",
    "        for line in f:\n",
    "            # Strip whitespace and quotes, then split by space only once\n",
    "            parts = line.strip().strip('\"').split('\" \"', 1)\n",
    "            if len(parts) == 2:\n",
    "                clean_text = parts[1].strip('\"')\n",
    "                clean_lines.append(clean_text)\n",
    "\n",
    "    if output_file:\n",
    "        with open(output_file, 'w', encoding='utf-8') as f:\n",
    "            for text in clean_lines:\n",
    "                f.write(text + '\\n')\n",
    "\n",
    "    return clean_lines\n",
    "\n",
    "\n",
    "input_path = 'Labels/Tehraani-Text.txt'\n",
    "output_path = 'Labels/Tehraani-Text-Cleaned.txt'\n",
    "texts = extract_text_from_file(input_path, output_path)\n",
    "\n",
    "# Print first few results\n",
    "for t in texts[:3]:\n",
    "    print(t)\n"
   ]
  },
  {
   "cell_type": "markdown",
   "id": "6589029a",
   "metadata": {},
   "source": [
    "### Convert persian to numbers in names"
   ]
  },
  {
   "cell_type": "code",
   "execution_count": null,
   "id": "207c6530",
   "metadata": {},
   "outputs": [],
   "source": [
    "import os\n",
    "\n",
    "units = {\n",
    "    \"یک\": 1, \"دو\": 2, \"سه\": 3, \"چهار\": 4, \"پنج\": 5,\n",
    "    \"شش\": 6, \"هفت\": 7, \"هشت\": 8, \"نه\": 9\n",
    "}\n",
    "\n",
    "teens = {\n",
    "    \"ده\": 10, \"یازده\": 11, \"دوازده\": 12, \"سیزده\": 13, \"چهارده\": 14,\n",
    "    \"پانزده\": 15, \"شانزده\": 16, \"هفده\": 17, \"هجده\": 18, \"نوزده\": 19\n",
    "}\n",
    "\n",
    "tens = {\n",
    "    \"بیست\": 20, \"سی\": 30, \"چهل\": 40, \"پنجاه\": 50, \"شصت\": 60,\n",
    "    \"هفتاد\": 70, \"هشتاد\": 80, \"نود\": 90\n",
    "}\n",
    "\n",
    "hundreds = {\n",
    "    \"صد\": 100, \"دویست\": 200, \"سیصد\": 300, \"چهارصد\": 400, \"پانصد\": 500\n",
    "}\n",
    "\n",
    "def words_to_number(text):\n",
    "    text = text.replace(\".mp3\", \"\").strip()\n",
    "    parts = text.split(\" و \")\n",
    "    total = 0\n",
    "    temp = 0\n",
    "\n",
    "    for part in parts:\n",
    "        part = part.strip()\n",
    "        if part in hundreds:\n",
    "            total += hundreds[part]\n",
    "        elif part in teens:\n",
    "            temp += teens[part]\n",
    "        elif part in tens:\n",
    "            temp += tens[part]\n",
    "        elif part in units:\n",
    "            temp += units[part]\n",
    "        else:\n",
    "            print(f\"⚠️ Unknown: «{part}»\")\n",
    "\n",
    "    total += temp\n",
    "    return total\n",
    "\n",
    "def rename_files(folder_path):\n",
    "    for filename in os.listdir(folder_path):\n",
    "        if filename.endswith(\".mp3\"):\n",
    "            try:\n",
    "                number = words_to_number(filename)\n",
    "                new_filename = f\"{number}.mp3\"\n",
    "                old_path = os.path.join(folder_path, filename)\n",
    "                new_path = os.path.join(folder_path, new_filename)\n",
    "                os.rename(old_path, new_path)\n",
    "                print(f\"✅ Renamed: {filename} → {new_filename}\")\n",
    "            except Exception as e:\n",
    "                print(f\"❌ Error renaming {filename}: {e}\")\n",
    "\n",
    "folder = \"Voices\"\n",
    "rename_files(folder)\n"
   ]
  }
 ],
 "metadata": {
  "kernelspec": {
   "display_name": ".venv",
   "language": "python",
   "name": "python3"
  },
  "language_info": {
   "codemirror_mode": {
    "name": "ipython",
    "version": 3
   },
   "file_extension": ".py",
   "mimetype": "text/x-python",
   "name": "python",
   "nbconvert_exporter": "python",
   "pygments_lexer": "ipython3",
   "version": "3.10.15"
  }
 },
 "nbformat": 4,
 "nbformat_minor": 5
}
